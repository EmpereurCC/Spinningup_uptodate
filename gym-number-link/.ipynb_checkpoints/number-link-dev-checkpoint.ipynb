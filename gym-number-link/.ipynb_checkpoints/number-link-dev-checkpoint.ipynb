{
 "cells": [
  {
   "cell_type": "code",
   "execution_count": 1,
   "metadata": {},
   "outputs": [],
   "source": [
    "import os, sys, time\n",
    "import pickle\n",
    "import random\n",
    "import datetime as dt\n",
    "import numpy as np\n",
    "import pandas as pd\n",
    "import gin\n",
    "\n",
    "import matplotlib\n",
    "import matplotlib.pyplot as plt\n",
    "\n",
    "import gym\n",
    "from gym.spaces.discrete import Discrete\n",
    "from gym.envs.classic_control import rendering\n",
    "from gym_number_link.envs.gym_number_link import NumberLink\n",
    "\n",
    "%matplotlib inline\n",
    "np.set_printoptions(linewidth=160)"
   ]
  },
  {
   "cell_type": "code",
   "execution_count": 2,
   "metadata": {},
   "outputs": [
    {
     "name": "stdout",
     "output_type": "stream",
     "text": [
      "number of wires: 10\n"
     ]
    }
   ],
   "source": [
    "MAX_ITER = 10000\n",
    "\n",
    "config_filename = os.path.join(os.getcwd(), \"gym_number_link\", \"envs\", \"config.gin\")\n",
    "gin.parse_config_file(config_filename)\n",
    "env = NumberLink(num_wires=10, board_size=30)\n",
    "print(\"number of wires:\", len(env.wires))"
   ]
  },
  {
   "cell_type": "code",
   "execution_count": null,
   "metadata": {},
   "outputs": [],
   "source": [
    "save_video = False\n",
    "video_filename = 'navigation.mp4'"
   ]
  },
  {
   "cell_type": "code",
   "execution_count": 3,
   "metadata": {},
   "outputs": [
    {
     "name": "stdout",
     "output_type": "stream",
     "text": [
      "frame [Hz]: 59.3820014830125\n",
      "frame [Hz]: 73.10117172998795\n",
      "frame [Hz]: 86.24376696710877\n",
      "frame [Hz]: 94.58280292214873\n",
      "return: 0.6 after 10000 steps\n"
     ]
    }
   ],
   "source": [
    "done, acc = False, 0.0\n",
    "start_time = dt.datetime.today().timestamp()\n",
    "for k in range(MAX_ITER):\n",
    "    action = env.action_space.sample()\n",
    "    obs, reward, done, info = env.step(action)\n",
    "    env.render()\n",
    "    acc += reward\n",
    "    if k % int(MAX_ITER/5) == 0 and k > 0:\n",
    "        delta = dt.datetime.today().timestamp() - start_time\n",
    "        print(\"frame [Hz]:\", k /delta)\n",
    "    if done:\n",
    "        break\n",
    "print(\"return: {} after {} steps\".format(acc, k+1))\n",
    "# print(\"\\nBOARD\")\n",
    "# print(obs[:,:,0])\n",
    "# print(\"\\nHEADS\")\n",
    "# print( obs[:,:,1])"
   ]
  },
  {
   "cell_type": "code",
   "execution_count": 4,
   "metadata": {},
   "outputs": [
    {
     "data": {
      "text/plain": [
       "True"
      ]
     },
     "execution_count": 4,
     "metadata": {},
     "output_type": "execute_result"
    }
   ],
   "source": [
    "env.render()"
   ]
  },
  {
   "cell_type": "code",
   "execution_count": 4,
   "metadata": {},
   "outputs": [],
   "source": [
    "env.close()"
   ]
  },
  {
   "cell_type": "code",
   "execution_count": 13,
   "metadata": {},
   "outputs": [
    {
     "data": {
      "text/plain": [
       "<bound method Geom.render of <gym.envs.classic_control.rendering.FilledPolygon object at 0x119dd0240>>"
      ]
     },
     "execution_count": 13,
     "metadata": {},
     "output_type": "execute_result"
    }
   ],
   "source": [
    "env.viewer.geoms[0].render"
   ]
  },
  {
   "cell_type": "code",
   "execution_count": 6,
   "metadata": {},
   "outputs": [],
   "source": [
    "a = {1:2, 3:4}"
   ]
  },
  {
   "cell_type": "code",
   "execution_count": 7,
   "metadata": {},
   "outputs": [
    {
     "data": {
      "text/plain": [
       "dict_values([2, 4])"
      ]
     },
     "execution_count": 7,
     "metadata": {},
     "output_type": "execute_result"
    }
   ],
   "source": [
    "a.values()"
   ]
  },
  {
   "cell_type": "code",
   "execution_count": 9,
   "metadata": {},
   "outputs": [
    {
     "name": "stdout",
     "output_type": "stream",
     "text": [
      "2\n",
      "4\n"
     ]
    }
   ],
   "source": [
    "for v in a.values():\n",
    "    print(v)"
   ]
  },
  {
   "cell_type": "code",
   "execution_count": null,
   "metadata": {},
   "outputs": [],
   "source": []
  }
 ],
 "metadata": {
  "kernelspec": {
   "display_name": "Python 3",
   "language": "python",
   "name": "python3"
  },
  "language_info": {
   "codemirror_mode": {
    "name": "ipython",
    "version": 3
   },
   "file_extension": ".py",
   "mimetype": "text/x-python",
   "name": "python",
   "nbconvert_exporter": "python",
   "pygments_lexer": "ipython3",
   "version": "3.6.8"
  }
 },
 "nbformat": 4,
 "nbformat_minor": 2
}
